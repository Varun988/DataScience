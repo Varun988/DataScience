{
 "cells": [
  {
   "cell_type": "markdown",
   "id": "24b9203c-68da-4cec-95f5-d264cec3910b",
   "metadata": {},
   "source": [
    "# What is a TfidfVectorizer?\r\n",
    "\n"
   ]
  },
  {
   "cell_type": "raw",
   "id": "c57ad8c4-2c89-483b-82eb-b1357c4a66cd",
   "metadata": {},
   "source": [
    "TF (Term Frequency): The number of times a word appears in a document is its Term Frequency. A higher value means a term appears more often than others, and so, the document is a good match when the term is part of the search terms.\n",
    "\n",
    "IDF (Inverse Document Frequency): Words that occur many times a document, but also occur many times in many others, may be irrelevant. IDF is a measure of how significant a term is in the entire corpus.\n",
    "\n",
    "The TfidfVectorizer converts a collection of raw documents into a matrix of TF-IDF features."
   ]
  },
  {
   "cell_type": "markdown",
   "id": "31f1bc45-f868-4765-ad26-9e258b0b8855",
   "metadata": {},
   "source": [
    "# What is a PassiveAggressiveClassifier?\n"
   ]
  },
  {
   "cell_type": "raw",
   "id": "f633ae65-d6ba-48f4-af1e-41327059b068",
   "metadata": {},
   "source": [
    "Passive Aggressive algorithms are online learning algorithms. Such an algorithm remains passive for a correct classification outcome, and turns aggressive in the event of a miscalculation, updating and adjusting. Unlike most other algorithms, it does not converge. Its purpose is to make updates that correct the loss, causing very little change in the norm of the weight vector."
   ]
  },
  {
   "cell_type": "code",
   "execution_count": 5,
   "id": "2ff0ed51-5695-4d9b-a4c9-d6a4c95fe3ba",
   "metadata": {},
   "outputs": [],
   "source": [
    "import numpy as np\n",
    "import pandas as pd\n",
    "import itertools\n",
    "from sklearn.model_selection import train_test_split\n",
    "from sklearn.feature_extraction.text import TfidfVectorizer\n",
    "from sklearn.linear_model import PassiveAggressiveClassifier\n",
    "from sklearn.metrics import accuracy_score, confusion_matrix"
   ]
  },
  {
   "cell_type": "code",
   "execution_count": 6,
   "id": "be57064a-9939-4d48-9df9-54b99a7ed4e1",
   "metadata": {},
   "outputs": [],
   "source": [
    "notfake = pd.read_csv('notfake_newsdataset.csv')"
   ]
  },
  {
   "cell_type": "code",
   "execution_count": 7,
   "id": "b619e6e7-ec4c-44f8-8f3f-7d7e95e2d6d9",
   "metadata": {},
   "outputs": [],
   "source": [
    "fake=pd.read_csv('fake_newsdataset.csv')"
   ]
  },
  {
   "cell_type": "code",
   "execution_count": 8,
   "id": "7649828d-976a-4856-a959-4dae81cf8654",
   "metadata": {},
   "outputs": [],
   "source": [
    "notfake['target']=1\n",
    "fake['target']=0\n",
    "df = pd.concat([notfake , fake] , ignore_index=True)\n",
    "df = df.sample(frac=1, random_state=42).reset_index(drop=True)"
   ]
  },
  {
   "cell_type": "code",
   "execution_count": 9,
   "id": "631041af-38ba-48e6-bc6f-55770c85f7b9",
   "metadata": {},
   "outputs": [
    {
     "data": {
      "text/html": [
       "<div>\n",
       "<style scoped>\n",
       "    .dataframe tbody tr th:only-of-type {\n",
       "        vertical-align: middle;\n",
       "    }\n",
       "\n",
       "    .dataframe tbody tr th {\n",
       "        vertical-align: top;\n",
       "    }\n",
       "\n",
       "    .dataframe thead th {\n",
       "        text-align: right;\n",
       "    }\n",
       "</style>\n",
       "<table border=\"1\" class=\"dataframe\">\n",
       "  <thead>\n",
       "    <tr style=\"text-align: right;\">\n",
       "      <th></th>\n",
       "      <th>title</th>\n",
       "      <th>text</th>\n",
       "      <th>subject</th>\n",
       "      <th>date</th>\n",
       "      <th>target</th>\n",
       "    </tr>\n",
       "  </thead>\n",
       "  <tbody>\n",
       "    <tr>\n",
       "      <th>0</th>\n",
       "      <td>BREAKING: GOP Chairman Grassley Has Had Enoug...</td>\n",
       "      <td>Donald Trump s White House is in chaos, and th...</td>\n",
       "      <td>News</td>\n",
       "      <td>July 21, 2017</td>\n",
       "      <td>0</td>\n",
       "    </tr>\n",
       "    <tr>\n",
       "      <th>1</th>\n",
       "      <td>Failed GOP Candidates Remembered In Hilarious...</td>\n",
       "      <td>Now that Donald Trump is the presumptive GOP n...</td>\n",
       "      <td>News</td>\n",
       "      <td>May 7, 2016</td>\n",
       "      <td>0</td>\n",
       "    </tr>\n",
       "    <tr>\n",
       "      <th>2</th>\n",
       "      <td>Mike Pence’s New DC Neighbors Are HILARIOUSLY...</td>\n",
       "      <td>Mike Pence is a huge homophobe. He supports ex...</td>\n",
       "      <td>News</td>\n",
       "      <td>December 3, 2016</td>\n",
       "      <td>0</td>\n",
       "    </tr>\n",
       "    <tr>\n",
       "      <th>3</th>\n",
       "      <td>California AG pledges to defend birth control ...</td>\n",
       "      <td>SAN FRANCISCO (Reuters) - California Attorney ...</td>\n",
       "      <td>politicsNews</td>\n",
       "      <td>October 6, 2017</td>\n",
       "      <td>1</td>\n",
       "    </tr>\n",
       "    <tr>\n",
       "      <th>4</th>\n",
       "      <td>AZ RANCHERS Living On US-Mexico Border Destroy...</td>\n",
       "      <td>Twisted reasoning is all that comes from Pelos...</td>\n",
       "      <td>politics</td>\n",
       "      <td>Apr 25, 2017</td>\n",
       "      <td>0</td>\n",
       "    </tr>\n",
       "    <tr>\n",
       "      <th>5</th>\n",
       "      <td>As private lawyer, Trump high court pick was f...</td>\n",
       "      <td>WASHINGTON (Reuters) - As a lawyer in private ...</td>\n",
       "      <td>politicsNews</td>\n",
       "      <td>February 1, 2017</td>\n",
       "      <td>1</td>\n",
       "    </tr>\n",
       "    <tr>\n",
       "      <th>6</th>\n",
       "      <td>Yemeni Salafist imam killed in Aden: sources</td>\n",
       "      <td>ADEN (Reuters) - A Salafist imam was shot dead...</td>\n",
       "      <td>worldnews</td>\n",
       "      <td>October 28, 2017</td>\n",
       "      <td>1</td>\n",
       "    </tr>\n",
       "    <tr>\n",
       "      <th>7</th>\n",
       "      <td>FBI says witnesses in U.S. probe into Malaysia...</td>\n",
       "      <td>KUALA LUMPUR (Reuters) - Potential witnesses t...</td>\n",
       "      <td>worldnews</td>\n",
       "      <td>September 6, 2017</td>\n",
       "      <td>1</td>\n",
       "    </tr>\n",
       "    <tr>\n",
       "      <th>8</th>\n",
       "      <td>An Easy To Read Chart Shows How Bernie Sanders...</td>\n",
       "      <td>The goal of socialism is communism.  -Vladimi...</td>\n",
       "      <td>politics</td>\n",
       "      <td>Feb 24, 2016</td>\n",
       "      <td>0</td>\n",
       "    </tr>\n",
       "    <tr>\n",
       "      <th>9</th>\n",
       "      <td>MMA FIGHTER JAKE SHIELDS Embarrasses Cowards I...</td>\n",
       "      <td>Opposing views and beliefs has much of this co...</td>\n",
       "      <td>politics</td>\n",
       "      <td>Feb 4, 2017</td>\n",
       "      <td>0</td>\n",
       "    </tr>\n",
       "    <tr>\n",
       "      <th>10</th>\n",
       "      <td>Tired Of Things Going Well, Marco Rubio Makes...</td>\n",
       "      <td>Listening to several of the Republican candida...</td>\n",
       "      <td>News</td>\n",
       "      <td>January 1, 2016</td>\n",
       "      <td>0</td>\n",
       "    </tr>\n",
       "    <tr>\n",
       "      <th>11</th>\n",
       "      <td>Yemen air strike kills eight women, two childr...</td>\n",
       "      <td>DUBAI (Reuters) - Eight women and two children...</td>\n",
       "      <td>worldnews</td>\n",
       "      <td>December 18, 2017</td>\n",
       "      <td>1</td>\n",
       "    </tr>\n",
       "    <tr>\n",
       "      <th>12</th>\n",
       "      <td>BREAKING: WDBJ KILLER WAS ANGRY BLACK DEMOCRAT...</td>\n",
       "      <td>An angry black, gay, racist, Democrat victim t...</td>\n",
       "      <td>politics</td>\n",
       "      <td>Aug 26, 2015</td>\n",
       "      <td>0</td>\n",
       "    </tr>\n",
       "    <tr>\n",
       "      <th>13</th>\n",
       "      <td>LIST OF 22 TIMES OBAMA Called Phony Climate Ch...</td>\n",
       "      <td>Oh the irony of a terror attack by Muslims tak...</td>\n",
       "      <td>politics</td>\n",
       "      <td>Dec 3, 2015</td>\n",
       "      <td>0</td>\n",
       "    </tr>\n",
       "    <tr>\n",
       "      <th>14</th>\n",
       "      <td>Indo-Pacific? Not from where China is sitting...</td>\n",
       "      <td>BEIJING/NEW DELHI (Reuters) - As U.S. Presiden...</td>\n",
       "      <td>worldnews</td>\n",
       "      <td>November 10, 2017</td>\n",
       "      <td>1</td>\n",
       "    </tr>\n",
       "    <tr>\n",
       "      <th>15</th>\n",
       "      <td>ART CONTEST WINNER Disqualified for Being a Tr...</td>\n",
       "      <td>So now if you enter a contest, you need to wor...</td>\n",
       "      <td>politics</td>\n",
       "      <td>Jul 23, 2017</td>\n",
       "      <td>0</td>\n",
       "    </tr>\n",
       "    <tr>\n",
       "      <th>16</th>\n",
       "      <td>'Lips and teeth' no more as China's ties with ...</td>\n",
       "      <td>BEIJING (Reuters) - When Kim Jong Un inherited...</td>\n",
       "      <td>worldnews</td>\n",
       "      <td>September 8, 2017</td>\n",
       "      <td>1</td>\n",
       "    </tr>\n",
       "    <tr>\n",
       "      <th>17</th>\n",
       "      <td>Factbox: Trump on Twitter (Sept 25) - NASCAR, ...</td>\n",
       "      <td>The following statements were posted to the ve...</td>\n",
       "      <td>politicsNews</td>\n",
       "      <td>September 26, 2017</td>\n",
       "      <td>1</td>\n",
       "    </tr>\n",
       "    <tr>\n",
       "      <th>18</th>\n",
       "      <td>Judge declines to dismiss bribery charges agai...</td>\n",
       "      <td>NEWARK, N.J. (Reuters) - The bribery case agai...</td>\n",
       "      <td>politicsNews</td>\n",
       "      <td>October 16, 2017</td>\n",
       "      <td>1</td>\n",
       "    </tr>\n",
       "    <tr>\n",
       "      <th>19</th>\n",
       "      <td>FATHER OF BENGHAZI VICTIM TY WOODS SPEAKS UP A...</td>\n",
       "      <td></td>\n",
       "      <td>politics</td>\n",
       "      <td>Sep 10, 2016</td>\n",
       "      <td>0</td>\n",
       "    </tr>\n",
       "  </tbody>\n",
       "</table>\n",
       "</div>"
      ],
      "text/plain": [
       "                                                title  \\\n",
       "0    BREAKING: GOP Chairman Grassley Has Had Enoug...   \n",
       "1    Failed GOP Candidates Remembered In Hilarious...   \n",
       "2    Mike Pence’s New DC Neighbors Are HILARIOUSLY...   \n",
       "3   California AG pledges to defend birth control ...   \n",
       "4   AZ RANCHERS Living On US-Mexico Border Destroy...   \n",
       "5   As private lawyer, Trump high court pick was f...   \n",
       "6        Yemeni Salafist imam killed in Aden: sources   \n",
       "7   FBI says witnesses in U.S. probe into Malaysia...   \n",
       "8   An Easy To Read Chart Shows How Bernie Sanders...   \n",
       "9   MMA FIGHTER JAKE SHIELDS Embarrasses Cowards I...   \n",
       "10   Tired Of Things Going Well, Marco Rubio Makes...   \n",
       "11  Yemen air strike kills eight women, two childr...   \n",
       "12  BREAKING: WDBJ KILLER WAS ANGRY BLACK DEMOCRAT...   \n",
       "13  LIST OF 22 TIMES OBAMA Called Phony Climate Ch...   \n",
       "14   Indo-Pacific? Not from where China is sitting...   \n",
       "15  ART CONTEST WINNER Disqualified for Being a Tr...   \n",
       "16  'Lips and teeth' no more as China's ties with ...   \n",
       "17  Factbox: Trump on Twitter (Sept 25) - NASCAR, ...   \n",
       "18  Judge declines to dismiss bribery charges agai...   \n",
       "19  FATHER OF BENGHAZI VICTIM TY WOODS SPEAKS UP A...   \n",
       "\n",
       "                                                 text       subject  \\\n",
       "0   Donald Trump s White House is in chaos, and th...          News   \n",
       "1   Now that Donald Trump is the presumptive GOP n...          News   \n",
       "2   Mike Pence is a huge homophobe. He supports ex...          News   \n",
       "3   SAN FRANCISCO (Reuters) - California Attorney ...  politicsNews   \n",
       "4   Twisted reasoning is all that comes from Pelos...      politics   \n",
       "5   WASHINGTON (Reuters) - As a lawyer in private ...  politicsNews   \n",
       "6   ADEN (Reuters) - A Salafist imam was shot dead...     worldnews   \n",
       "7   KUALA LUMPUR (Reuters) - Potential witnesses t...     worldnews   \n",
       "8    The goal of socialism is communism.  -Vladimi...      politics   \n",
       "9   Opposing views and beliefs has much of this co...      politics   \n",
       "10  Listening to several of the Republican candida...          News   \n",
       "11  DUBAI (Reuters) - Eight women and two children...     worldnews   \n",
       "12  An angry black, gay, racist, Democrat victim t...      politics   \n",
       "13  Oh the irony of a terror attack by Muslims tak...      politics   \n",
       "14  BEIJING/NEW DELHI (Reuters) - As U.S. Presiden...     worldnews   \n",
       "15  So now if you enter a contest, you need to wor...      politics   \n",
       "16  BEIJING (Reuters) - When Kim Jong Un inherited...     worldnews   \n",
       "17  The following statements were posted to the ve...  politicsNews   \n",
       "18  NEWARK, N.J. (Reuters) - The bribery case agai...  politicsNews   \n",
       "19                                                         politics   \n",
       "\n",
       "                   date  target  \n",
       "0         July 21, 2017       0  \n",
       "1           May 7, 2016       0  \n",
       "2      December 3, 2016       0  \n",
       "3      October 6, 2017        1  \n",
       "4          Apr 25, 2017       0  \n",
       "5     February 1, 2017        1  \n",
       "6     October 28, 2017        1  \n",
       "7    September 6, 2017        1  \n",
       "8          Feb 24, 2016       0  \n",
       "9           Feb 4, 2017       0  \n",
       "10      January 1, 2016       0  \n",
       "11   December 18, 2017        1  \n",
       "12         Aug 26, 2015       0  \n",
       "13          Dec 3, 2015       0  \n",
       "14   November 10, 2017        1  \n",
       "15         Jul 23, 2017       0  \n",
       "16   September 8, 2017        1  \n",
       "17  September 26, 2017        1  \n",
       "18    October 16, 2017        1  \n",
       "19         Sep 10, 2016       0  "
      ]
     },
     "execution_count": 9,
     "metadata": {},
     "output_type": "execute_result"
    }
   ],
   "source": [
    "df.head(20)"
   ]
  },
  {
   "cell_type": "code",
   "execution_count": 10,
   "id": "d7921363-c7e4-471f-b76e-31fb5c96b5b1",
   "metadata": {},
   "outputs": [
    {
     "data": {
      "text/plain": [
       "(44898, 5)"
      ]
     },
     "execution_count": 10,
     "metadata": {},
     "output_type": "execute_result"
    }
   ],
   "source": [
    "df.shape"
   ]
  },
  {
   "cell_type": "code",
   "execution_count": 11,
   "id": "8d4a48ec-b730-46c0-9247-6f7df2bc362c",
   "metadata": {},
   "outputs": [
    {
     "data": {
      "text/html": [
       "<div>\n",
       "<style scoped>\n",
       "    .dataframe tbody tr th:only-of-type {\n",
       "        vertical-align: middle;\n",
       "    }\n",
       "\n",
       "    .dataframe tbody tr th {\n",
       "        vertical-align: top;\n",
       "    }\n",
       "\n",
       "    .dataframe thead th {\n",
       "        text-align: right;\n",
       "    }\n",
       "</style>\n",
       "<table border=\"1\" class=\"dataframe\">\n",
       "  <thead>\n",
       "    <tr style=\"text-align: right;\">\n",
       "      <th></th>\n",
       "      <th>dtypes</th>\n",
       "      <th>missing</th>\n",
       "      <th>missing %</th>\n",
       "      <th>uniques</th>\n",
       "      <th>count</th>\n",
       "    </tr>\n",
       "  </thead>\n",
       "  <tbody>\n",
       "    <tr>\n",
       "      <th>title</th>\n",
       "      <td>object</td>\n",
       "      <td>0</td>\n",
       "      <td>0.0</td>\n",
       "      <td>38729</td>\n",
       "      <td>44898</td>\n",
       "    </tr>\n",
       "    <tr>\n",
       "      <th>text</th>\n",
       "      <td>object</td>\n",
       "      <td>0</td>\n",
       "      <td>0.0</td>\n",
       "      <td>38646</td>\n",
       "      <td>44898</td>\n",
       "    </tr>\n",
       "    <tr>\n",
       "      <th>subject</th>\n",
       "      <td>object</td>\n",
       "      <td>0</td>\n",
       "      <td>0.0</td>\n",
       "      <td>8</td>\n",
       "      <td>44898</td>\n",
       "    </tr>\n",
       "    <tr>\n",
       "      <th>date</th>\n",
       "      <td>object</td>\n",
       "      <td>0</td>\n",
       "      <td>0.0</td>\n",
       "      <td>2397</td>\n",
       "      <td>44898</td>\n",
       "    </tr>\n",
       "    <tr>\n",
       "      <th>target</th>\n",
       "      <td>int64</td>\n",
       "      <td>0</td>\n",
       "      <td>0.0</td>\n",
       "      <td>2</td>\n",
       "      <td>44898</td>\n",
       "    </tr>\n",
       "  </tbody>\n",
       "</table>\n",
       "</div>"
      ],
      "text/plain": [
       "         dtypes  missing  missing %  uniques  count\n",
       "title    object        0        0.0    38729  44898\n",
       "text     object        0        0.0    38646  44898\n",
       "subject  object        0        0.0        8  44898\n",
       "date     object        0        0.0     2397  44898\n",
       "target    int64        0        0.0        2  44898"
      ]
     },
     "execution_count": 11,
     "metadata": {},
     "output_type": "execute_result"
    }
   ],
   "source": [
    "def summary(df):\n",
    "    sum_df = pd.DataFrame(df.dtypes, columns=[\"dtypes\"])\n",
    "    sum_df[\"missing\"] = df.isna().sum()\n",
    "    sum_df[\"missing %\"] = (df.isna().sum())/ len(df)\n",
    "    sum_df[\"uniques\"] = df.nunique().values\n",
    "    sum_df[\"count\"] = df.count().values\n",
    "    return sum_df.sort_values(\"missing %\", ascending=False)\n",
    "summary(df)"
   ]
  },
  {
   "cell_type": "code",
   "execution_count": 12,
   "id": "be19fa52-7c0b-4d23-9f13-a5562a660de0",
   "metadata": {},
   "outputs": [],
   "source": [
    "df.drop(['date','subject'],axis='columns',inplace=True)"
   ]
  },
  {
   "cell_type": "code",
   "execution_count": 13,
   "id": "03ce214a-825e-4a06-b641-c032d98d223f",
   "metadata": {},
   "outputs": [
    {
     "data": {
      "text/plain": [
       "Index(['title', 'text', 'target'], dtype='object')"
      ]
     },
     "execution_count": 13,
     "metadata": {},
     "output_type": "execute_result"
    }
   ],
   "source": [
    "df.columns"
   ]
  },
  {
   "cell_type": "code",
   "execution_count": 14,
   "id": "92e69c6d-57c6-4717-83ef-103deaae5d1b",
   "metadata": {},
   "outputs": [
    {
     "data": {
      "text/plain": [
       "0    Donald Trump s White House is in chaos, and th...\n",
       "1    Now that Donald Trump is the presumptive GOP n...\n",
       "2    Mike Pence is a huge homophobe. He supports ex...\n",
       "3    SAN FRANCISCO (Reuters) - California Attorney ...\n",
       "4    Twisted reasoning is all that comes from Pelos...\n",
       "5    WASHINGTON (Reuters) - As a lawyer in private ...\n",
       "6    ADEN (Reuters) - A Salafist imam was shot dead...\n",
       "7    KUALA LUMPUR (Reuters) - Potential witnesses t...\n",
       "8     The goal of socialism is communism.  -Vladimi...\n",
       "9    Opposing views and beliefs has much of this co...\n",
       "Name: text, dtype: object"
      ]
     },
     "execution_count": 14,
     "metadata": {},
     "output_type": "execute_result"
    }
   ],
   "source": [
    "#DataFlair - Split the dataset\n",
    "X = df.text\n",
    "X.head(10)"
   ]
  },
  {
   "cell_type": "code",
   "execution_count": 15,
   "id": "8c685c09-8af6-4fad-8c71-91875c06335f",
   "metadata": {},
   "outputs": [
    {
     "data": {
      "text/plain": [
       "0    0\n",
       "1    0\n",
       "2    0\n",
       "3    1\n",
       "4    0\n",
       "5    1\n",
       "6    1\n",
       "7    1\n",
       "8    0\n",
       "9    0\n",
       "Name: target, dtype: int64"
      ]
     },
     "execution_count": 15,
     "metadata": {},
     "output_type": "execute_result"
    }
   ],
   "source": [
    "y = df.target\n",
    "y.head(10)"
   ]
  },
  {
   "cell_type": "code",
   "execution_count": 27,
   "id": "f89279d2-dbb0-4072-b3c1-1947d67d9125",
   "metadata": {},
   "outputs": [
    {
     "data": {
      "application/vnd.jupyter.widget-view+json": {
       "model_id": "5c11a3e698904da9a542a4a02d062414",
       "version_major": 2,
       "version_minor": 0
      },
      "text/plain": [
       "                                             |                                             | [  0%]   00:00 ->…"
      ]
     },
     "metadata": {},
     "output_type": "display_data"
    },
    {
     "name": "stdout",
     "output_type": "stream",
     "text": [
      "Report SWEETVIZ_REPORT.html was generated! NOTEBOOK/COLAB USERS: the web browser MAY not pop up, regardless, the report IS saved in your notebook/colab files.\n"
     ]
    }
   ],
   "source": [
    "import sweetviz as sv\n",
    "my_report=sv.analyze(df)\n",
    "my_report.show_html()"
   ]
  },
  {
   "cell_type": "code",
   "execution_count": 86,
   "id": "e8795a8a-e4f5-442b-b3b1-df3414347bee",
   "metadata": {},
   "outputs": [],
   "source": [
    "X_train, X_test, y_train, y_test = train_test_split(X,y,test_size=0.2,random_state=10)"
   ]
  },
  {
   "cell_type": "code",
   "execution_count": null,
   "id": "a2c74164-ba38-4b62-a491-aa3af6099cd5",
   "metadata": {},
   "outputs": [],
   "source": []
  },
  {
   "cell_type": "code",
   "execution_count": 87,
   "id": "75c133d4-1484-4b59-b358-99476046a8f1",
   "metadata": {},
   "outputs": [],
   "source": [
    "#DataFlair - Initialize a TfidfVectorizer\n",
    "tfidf_vectorizer=TfidfVectorizer(stop_words='english', max_df=0.7)\n",
    "\n",
    "#DataFlair - Fit and transform train set, transform test set\n",
    "tfidf_train=tfidf_vectorizer.fit_transform(X_train) \n",
    "tfidf_test=tfidf_vectorizer.transform(X_test)"
   ]
  },
  {
   "cell_type": "code",
   "execution_count": 89,
   "id": "2dc5f355-704d-49b3-aa3f-c4349e37a6bb",
   "metadata": {},
   "outputs": [
    {
     "name": "stdout",
     "output_type": "stream",
     "text": [
      "Accuracy: 99.38%\n"
     ]
    }
   ],
   "source": [
    "#DataFlair - Initialize a PassiveAggressiveClassifier\n",
    "pac=PassiveAggressiveClassifier(max_iter=50)\n",
    "pac.fit(tfidf_train,y_train)\n",
    "\n",
    "# #DataFlair - Predict on the test set and calculate accuracy\n",
    "y_pred=pac.predict(tfidf_test)\n",
    "score=accuracy_score(y_test,y_pred)\n",
    "print(f'Accuracy: {round(score*100,2)}%')"
   ]
  },
  {
   "cell_type": "code",
   "execution_count": 91,
   "id": "798ecd5d-59fd-4867-9611-f06d0fe75159",
   "metadata": {},
   "outputs": [
    {
     "data": {
      "text/plain": [
       "array([[4589,   28],\n",
       "       [  28, 4335]], dtype=int64)"
      ]
     },
     "execution_count": 91,
     "metadata": {},
     "output_type": "execute_result"
    }
   ],
   "source": [
    "#DataFlair - Build confusion matrix\n",
    "confusion_matrix(y_test,y_pred, labels=[0,1])"
   ]
  },
  {
   "cell_type": "code",
   "execution_count": null,
   "id": "c4e4c712-d993-4f12-b624-176a5246701a",
   "metadata": {},
   "outputs": [],
   "source": []
  }
 ],
 "metadata": {
  "kernelspec": {
   "display_name": "Python 3 (ipykernel)",
   "language": "python",
   "name": "python3"
  },
  "language_info": {
   "codemirror_mode": {
    "name": "ipython",
    "version": 3
   },
   "file_extension": ".py",
   "mimetype": "text/x-python",
   "name": "python",
   "nbconvert_exporter": "python",
   "pygments_lexer": "ipython3",
   "version": "3.12.3"
  }
 },
 "nbformat": 4,
 "nbformat_minor": 5
}
